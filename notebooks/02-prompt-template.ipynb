{
 "cells": [
  {
   "cell_type": "code",
   "id": "initial_id",
   "metadata": {
    "collapsed": true,
    "ExecuteTime": {
     "end_time": "2025-03-09T09:02:16.654047Z",
     "start_time": "2025-03-09T09:02:16.647634Z"
    }
   },
   "source": [
    "import sys\n",
    "import os\n",
    "from dotenv import load_dotenv\n",
    "load_dotenv()\n",
    "LLM_DAILY_RESPONSE_PATH = os.getenv('LLM_DAILY_RESPONSE_PATH')\n",
    "sys.path.insert(0, LLM_DAILY_RESPONSE_PATH)\n",
    "import logging\n",
    "\n",
    "from llm_service import get_llm_bedrock_ai\n",
    "from constants import NEWS_URL\n",
    "from news_loader import collect_top_headline_content\n",
    "from llm_prompts import *"
   ],
   "outputs": [],
   "execution_count": 8
  },
  {
   "metadata": {
    "ExecuteTime": {
     "end_time": "2025-03-09T08:53:32.241822Z",
     "start_time": "2025-03-09T08:53:31.508956Z"
    }
   },
   "cell_type": "code",
   "source": "data = collect_top_headline_content(NEWS_URL, limit=2, length_in_chat=2000)",
   "id": "a02abb4af28403ff",
   "outputs": [],
   "execution_count": 2
  },
  {
   "metadata": {
    "ExecuteTime": {
     "end_time": "2025-03-09T08:53:32.361901Z",
     "start_time": "2025-03-09T08:53:32.359333Z"
    }
   },
   "cell_type": "code",
   "source": "print(data[0])",
   "id": "50df583ee05bfd77",
   "outputs": [
    {
     "name": "stdout",
     "output_type": "stream",
     "text": [
      "ChatGPT on macOS can now directly edit code | TechCrunch  from TechCrunch\n",
      "\t\t\n",
      "\n",
      "\n",
      "\t\tEvents\t\n",
      "\n",
      "\n",
      "\n",
      "\t\tStartup Battlefield\t\n",
      "\n",
      "\n",
      "\n",
      "\t\tStrictlyVC\t\n",
      "\n",
      "\n",
      "\n",
      "\t\tNewsletters\t\n",
      "\n",
      "\n",
      "\n",
      "\t\tPodcasts\t\n",
      "\n",
      "\n",
      "\n",
      "\t\tVideos\t\n",
      "\n",
      "\n",
      "\n",
      "\t\tPartner Content\t\n",
      "\n",
      "\n",
      "\n",
      "\t\tTechCrunch Brand Studio\t\n",
      "\n",
      "\n",
      "\n",
      "\t\tCrunchboard\t\n",
      "\n",
      "\n",
      "\n",
      "\t\tContact Us\t\n",
      "\n",
      "\n",
      "\n",
      "\n",
      "\n",
      "\t\tSign In\t\n",
      "\n",
      "\n",
      "\n",
      "\n",
      "\n",
      "\n",
      "\n",
      "\n",
      "\n",
      "\n",
      "\n",
      "\n",
      "\n",
      "\n",
      "\n",
      "\n",
      "\n",
      "\n",
      "\n",
      "Image Credits:Silas Stein / picture alliance / Getty Images \n",
      "\n",
      "\n",
      "\n",
      "\n",
      "\n",
      "\n",
      "\n",
      "\t\tAI\t\n",
      "\n",
      "\n",
      "\n",
      "\n",
      "\n",
      " \n",
      "\n",
      " \n",
      "\n",
      " \n",
      "\n",
      " \n",
      "\n",
      " \n",
      "\n",
      " \n",
      "\n",
      " \n",
      "\n",
      "\n",
      "\n",
      "\n",
      "\n",
      "ChatGPT on macOS can now directly edit code \n",
      "\n",
      "\n",
      "\n",
      "\n",
      "\n",
      "Kyle Wiggers\n",
      "\n",
      "\n",
      "\n",
      "\n",
      "\n",
      "10:36 AM PST · March 6, 2025 \n",
      "\n",
      "\n",
      "\n",
      "\n",
      "\n",
      "\n",
      "\n",
      " \n",
      "\n",
      "\n",
      " \n",
      "\n",
      " \n",
      "\n",
      " \n",
      "\n",
      " \n",
      "\n",
      " \n",
      "\n",
      " \n",
      "\n",
      " \n",
      "\n",
      "\n",
      "\n",
      "\n",
      "\n",
      "\n",
      "ChatGPT, OpenAI’s AI-powered chatbot platform, can now directly edit code — if you’re on macOS, that is.\n",
      "The newest version of the ChatGPT app for macOS can take action to edit code in supported developer tools, including Xcode, VS Code, and JetBrains. Users can optionally turn on an “auto-apply” mode so ChatGPT can make edits without the need for additional clicks.\n",
      "\n",
      "\n",
      "\n",
      "\n",
      "\n",
      "\n",
      "\n",
      "\n",
      "Subscribers to ChatGPT Plus, Pro, and Team can use the code editing feature as of Thursday by updating their macOS app. OpenAI says that code\n"
     ]
    }
   ],
   "execution_count": 3
  },
  {
   "metadata": {
    "ExecuteTime": {
     "end_time": "2025-03-09T09:00:04.470936Z",
     "start_time": "2025-03-09T09:00:04.344344Z"
    }
   },
   "cell_type": "code",
   "source": [
    "from langchain_core.prompts import ChatPromptTemplate\n",
    "\n",
    "get_llm_bedrock_ai = get_llm_bedrock_ai()\n",
    "system_prompt = \"\"\"\n",
    "        You are a personal ai News reporter that helps me summarise news articles every day,\n",
    "        My name is Yash and I want to stay connected to the news but I am busy so help me understand top news.\n",
    "        You will provide me with a list of the news articles below, Please report me this news in a human-like manner.\n",
    "        {collected_news_data}\n",
    "\n",
    "        Make sure it is going to be in an audio format so make it sound like a human and do not format it textually.\n",
    "        Always greet me with \"Hello Yash\" and say \"Goodbye have a good day\" at the end.\n",
    "        \"\"\"\n",
    "\n",
    "template = ChatPromptTemplate([\n",
    "    (\"system\", system_prompt),\n",
    "    (\"human\", \"Hey, what's going on in the ai world today?\"),\n",
    "])\n",
    "\n"
   ],
   "id": "3b983bb7ad4d4313",
   "outputs": [],
   "execution_count": 5
  },
  {
   "metadata": {
    "ExecuteTime": {
     "end_time": "2025-03-09T09:01:56.556395Z",
     "start_time": "2025-03-09T09:01:56.553767Z"
    }
   },
   "cell_type": "code",
   "source": [
    "def llm_daily_response(collected_news_data):\n",
    "    logging.info(\"Summarising news articles\")\n",
    "    llm_chat = get_llm_bedrock_ai()\n",
    "    chain = llm_chat | template\n",
    "    try:\n",
    "        response = chain.invoke({\"collected_news_data\": collected_news_data})\n",
    "        return response.content\n",
    "    except Exception as e:\n",
    "        return f\"Due to {str(e)} we could not fetch the news data\""
   ],
   "id": "83056b29a90bd070",
   "outputs": [],
   "execution_count": 6
  },
  {
   "metadata": {
    "ExecuteTime": {
     "end_time": "2025-03-09T09:02:19.849875Z",
     "start_time": "2025-03-09T09:02:19.679886Z"
    }
   },
   "cell_type": "code",
   "source": "response = llm_daily_response(data)",
   "id": "47329b0ea8cf300c",
   "outputs": [],
   "execution_count": 9
  },
  {
   "metadata": {
    "ExecuteTime": {
     "end_time": "2025-03-09T09:02:27.388369Z",
     "start_time": "2025-03-09T09:02:27.385440Z"
    }
   },
   "cell_type": "code",
   "source": "response",
   "id": "ff473f8092576083",
   "outputs": [
    {
     "data": {
      "text/plain": [
       "\"Due to Invalid input type <class 'dict'>. Must be a PromptValue, str, or list of BaseMessages. we could not fetch the news data\""
      ]
     },
     "execution_count": 11,
     "metadata": {},
     "output_type": "execute_result"
    }
   ],
   "execution_count": 11
  },
  {
   "metadata": {},
   "cell_type": "code",
   "outputs": [],
   "execution_count": null,
   "source": "",
   "id": "584bd939f2d336fa"
  }
 ],
 "metadata": {
  "kernelspec": {
   "display_name": "Python 3",
   "language": "python",
   "name": "python3"
  },
  "language_info": {
   "codemirror_mode": {
    "name": "ipython",
    "version": 2
   },
   "file_extension": ".py",
   "mimetype": "text/x-python",
   "name": "python",
   "nbconvert_exporter": "python",
   "pygments_lexer": "ipython2",
   "version": "2.7.6"
  }
 },
 "nbformat": 4,
 "nbformat_minor": 5
}
